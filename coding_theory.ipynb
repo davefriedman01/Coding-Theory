{
 "cells": [
  {
   "cell_type": "code",
   "execution_count": 518,
   "metadata": {},
   "outputs": [],
   "source": [
    "from collections import defaultdict\n",
    "from itertools import product\n",
    "import numpy as np"
   ]
  },
  {
   "cell_type": "markdown",
   "metadata": {},
   "source": [
    "---"
   ]
  },
  {
   "cell_type": "code",
   "execution_count": 872,
   "metadata": {},
   "outputs": [],
   "source": [
    "def binvec (a, n):\n",
    "    \"\"\"take a binary vector a of length n in its decimal representation and return its binary represenation\"\"\"\n",
    "    return format(a, '0'+str(n)+'b')\n",
    "\n",
    "def vecadd (a, b, n, q=2):\n",
    "    \"\"\"take two vectors a and b of length n and return their sum (mod q)\"\"\"\n",
    "    return ''.join([str((int(a[i]) + int(b[i])) % q) for i in range(n)])\n",
    "    #return format(a^b, '0'+str(n)+'b') for binary vectors only\n",
    "    \n",
    "def vecsadd (vectors, n, q=2):\n",
    "    \"\"\"take a set of vectors as a list of strings of ints of length n\n",
    "    and return their sum (mod q) as a string of ints\"\"\"\n",
    "    \n",
    "    # verify that all vectors are length n\n",
    "    for vector in vectors:\n",
    "        assert len(vector) == n, 'vectors are assumed to be of equal length'\n",
    "        \n",
    "    \n",
    "    positions = defaultdict(list)\n",
    "    for vector in vectors:\n",
    "        for i in range(n ):\n",
    "            positions[i].append(vector[i])\n",
    "    summ = []\n",
    "    for i, j in positions.items():\n",
    "        summ.append(np.mod(np.array(j).astype(int).sum(), q))\n",
    "        \n",
    "    return ''.join([str(i) for i in summ])\n",
    "    \n",
    "def vecinv (a, n):\n",
    "    return format(a^(2**n-1), '0'+str(n)+'b')\n",
    "\n",
    "def v (n, q=2):\n",
    "    \"\"\"construct a linear space of dimension n over a finite field of order q\"\"\"\n",
    "    return [''.join(str(pos) for pos in comb) for comb in list(product(range(q), repeat=n))]\n",
    "\n",
    "def num_lin_sub_k (n, k, q):\n",
    "    \"\"\"Compute the number of k-dim linear subspaces of a linear space of dim n over a finite field of order q\"\"\"\n",
    "    return np.prod([q**n-q**i for i in range(k)])/np.prod([q**k-q**i for i in range(k)])\n",
    "\n",
    "def generate_scalar_multiples (vector, n, q):\n",
    "    \"\"\"Given a vector of length n over q symbols, get its scalar multiples\"\"\"\n",
    "    scalar_multiples = []\n",
    "    for scalar in range(q):\n",
    "        scalar_multiple = vector\n",
    "        for i in range(scalar):\n",
    "            scalar_multiple = vecadd(scalar_multiple, vector, n, q)\n",
    "        scalar_multiples.append(scalar_multiple)\n",
    "    return scalar_multiples\n",
    "\n",
    "def span (vectors=['1000','0100'], n=4, q=2):\n",
    "    \"\"\"\n",
    "    get the span of a set of vectors in V(n, q) over GF(q)\n",
    "    \"\"\"\n",
    "    if '0'*n in vectors:\n",
    "        vectors.remove('0'*n)\n",
    "    qsm = []\n",
    "    for veck in vectors:\n",
    "        qsm.append(generate_scalar_multiples(veck, n, q))\n",
    "\n",
    "    return set([vecsadd(comb, n, q) for comb in product(*[qsm[i] for i in range(len(qsm))])])"
   ]
  },
  {
   "cell_type": "code",
   "execution_count": 171,
   "metadata": {},
   "outputs": [
    {
     "name": "stdout",
     "output_type": "stream",
     "text": [
      "00011111\n",
      "11100000\n",
      "01000000\n",
      "01011111\n"
     ]
    }
   ],
   "source": [
    "\"\"\"\n",
    "n = 8\n",
    "\n",
    "a = binvec(31, n)\n",
    "a_inv = vecinv(31, n)\n",
    "b = binvec(64, n)\n",
    "\n",
    "print(a)\n",
    "print(a_inv)\n",
    "print(b)\n",
    "print(vecadd(a, b, n))\n",
    "\"\"\""
   ]
  },
  {
   "cell_type": "markdown",
   "metadata": {},
   "source": [
    "---"
   ]
  },
  {
   "cell_type": "markdown",
   "metadata": {},
   "source": [
    "# Construct $V(n, q)$ over $GF(q)$\n",
    "\n",
    "$| V(n, q) | = q^n$"
   ]
  },
  {
   "cell_type": "code",
   "execution_count": 939,
   "metadata": {},
   "outputs": [
    {
     "name": "stdout",
     "output_type": "stream",
     "text": [
      "n\t4\n",
      "q\t3\n",
      "q^n\t81\n",
      "\n",
      "0\t0000\n",
      "1\t0001\n",
      "2\t0002\n",
      "3\t0010\n",
      "4\t0011\n",
      "5\t0012\n",
      "6\t0020\n",
      "7\t0021\n",
      "8\t0022\n",
      "9\t0100\n",
      "10\t0101\n",
      "11\t0102\n",
      "12\t0110\n",
      "13\t0111\n",
      "14\t0112\n",
      "15\t0120\n",
      "16\t0121\n",
      "17\t0122\n",
      "18\t0200\n",
      "19\t0201\n",
      "20\t0202\n",
      "21\t0210\n",
      "22\t0211\n",
      "23\t0212\n",
      "24\t0220\n",
      "25\t0221\n",
      "26\t0222\n",
      "27\t1000\n",
      "28\t1001\n",
      "29\t1002\n",
      "30\t1010\n",
      "31\t1011\n",
      "32\t1012\n",
      "33\t1020\n",
      "34\t1021\n",
      "35\t1022\n",
      "36\t1100\n",
      "37\t1101\n",
      "38\t1102\n",
      "39\t1110\n",
      "40\t1111\n",
      "41\t1112\n",
      "42\t1120\n",
      "43\t1121\n",
      "44\t1122\n",
      "45\t1200\n",
      "46\t1201\n",
      "47\t1202\n",
      "48\t1210\n",
      "49\t1211\n",
      "50\t1212\n",
      "51\t1220\n",
      "52\t1221\n",
      "53\t1222\n",
      "54\t2000\n",
      "55\t2001\n",
      "56\t2002\n",
      "57\t2010\n",
      "58\t2011\n",
      "59\t2012\n",
      "60\t2020\n",
      "61\t2021\n",
      "62\t2022\n",
      "63\t2100\n",
      "64\t2101\n",
      "65\t2102\n",
      "66\t2110\n",
      "67\t2111\n",
      "68\t2112\n",
      "69\t2120\n",
      "70\t2121\n",
      "71\t2122\n",
      "72\t2200\n",
      "73\t2201\n",
      "74\t2202\n",
      "75\t2210\n",
      "76\t2211\n",
      "77\t2212\n",
      "78\t2220\n",
      "79\t2221\n",
      "80\t2222\n"
     ]
    }
   ],
   "source": [
    "# specify the dimension of V(n, q)\n",
    "n = 4\n",
    "# specify the order of GF(q)\n",
    "q = 3\n",
    "# construct V(n, q) over GF(q)\n",
    "space = v(n, q)\n",
    "print('{}\\t{}'.format('n',n))\n",
    "print('{}\\t{}'.format('q',q))\n",
    "print('{}\\t{}'.format('q^n',q**n))\n",
    "print()\n",
    "for i, c in enumerate(space): print('{}\\t{}'.format(i, c))"
   ]
  },
  {
   "cell_type": "code",
   "execution_count": 942,
   "metadata": {},
   "outputs": [
    {
     "name": "stdout",
     "output_type": "stream",
     "text": [
      "2002\n",
      "2120\n",
      "1122\n"
     ]
    }
   ],
   "source": [
    "# show that the sum of any two vectors in the linear space is also in the linear space\n",
    "\n",
    "a = np.random.choice(space) # choose a random vector in V(n, q)\n",
    "b = np.random.choice(space) # choose a random vector in V(n, q)\n",
    "c = vecadd(a, b, n, q)      # add them\n",
    "print(a)\n",
    "print(b)\n",
    "print(c)\n",
    "assert c in space"
   ]
  },
  {
   "cell_type": "markdown",
   "metadata": {},
   "source": [
    "---"
   ]
  },
  {
   "cell_type": "markdown",
   "metadata": {},
   "source": [
    "## Compute the scalar multiples of a vector $\\{λ\\mathbf{v}$ | $\\mathbf{v}\\in V(n, q), \\forall λ\\in GF(q)\\}$"
   ]
  },
  {
   "cell_type": "code",
   "execution_count": 974,
   "metadata": {},
   "outputs": [
    {
     "name": "stdout",
     "output_type": "stream",
     "text": [
      "64 vectors\t3 scalar multiples per vector\n",
      "\n",
      "0000\t['0000', '0000', '0000']\n",
      "0001\t['0001', '0002', '0000']\n",
      "0002\t['0002', '0001', '0000']\n",
      "0010\t['0010', '0020', '0000']\n",
      "0011\t['0011', '0022', '0000']\n",
      "0012\t['0012', '0021', '0000']\n",
      "0020\t['0020', '0010', '0000']\n",
      "0021\t['0021', '0012', '0000']\n",
      "0022\t['0022', '0011', '0000']\n",
      "0100\t['0100', '0200', '0000']\n",
      "0101\t['0101', '0202', '0000']\n",
      "0102\t['0102', '0201', '0000']\n",
      "0110\t['0110', '0220', '0000']\n",
      "0111\t['0111', '0222', '0000']\n",
      "0112\t['0112', '0221', '0000']\n",
      "0120\t['0120', '0210', '0000']\n",
      "0121\t['0121', '0212', '0000']\n",
      "0122\t['0122', '0211', '0000']\n",
      "0200\t['0200', '0100', '0000']\n",
      "0201\t['0201', '0102', '0000']\n",
      "0202\t['0202', '0101', '0000']\n",
      "0210\t['0210', '0120', '0000']\n",
      "0211\t['0211', '0122', '0000']\n",
      "0212\t['0212', '0121', '0000']\n",
      "0220\t['0220', '0110', '0000']\n",
      "0221\t['0221', '0112', '0000']\n",
      "0222\t['0222', '0111', '0000']\n",
      "1000\t['1000', '2000', '0000']\n",
      "1001\t['1001', '2002', '0000']\n",
      "1002\t['1002', '2001', '0000']\n",
      "1010\t['1010', '2020', '0000']\n",
      "1011\t['1011', '2022', '0000']\n",
      "1012\t['1012', '2021', '0000']\n",
      "1020\t['1020', '2010', '0000']\n",
      "1021\t['1021', '2012', '0000']\n",
      "1022\t['1022', '2011', '0000']\n",
      "1100\t['1100', '2200', '0000']\n",
      "1101\t['1101', '2202', '0000']\n",
      "1102\t['1102', '2201', '0000']\n",
      "1110\t['1110', '2220', '0000']\n",
      "1111\t['1111', '2222', '0000']\n",
      "1112\t['1112', '2221', '0000']\n",
      "1120\t['1120', '2210', '0000']\n",
      "1121\t['1121', '2212', '0000']\n",
      "1122\t['1122', '2211', '0000']\n",
      "1200\t['1200', '2100', '0000']\n",
      "1201\t['1201', '2102', '0000']\n",
      "1202\t['1202', '2101', '0000']\n",
      "1210\t['1210', '2120', '0000']\n",
      "1211\t['1211', '2122', '0000']\n",
      "1212\t['1212', '2121', '0000']\n",
      "1220\t['1220', '2110', '0000']\n",
      "1221\t['1221', '2112', '0000']\n",
      "1222\t['1222', '2111', '0000']\n",
      "2000\t['2000', '1000', '0000']\n",
      "2001\t['2001', '1002', '0000']\n",
      "2002\t['2002', '1001', '0000']\n",
      "2010\t['2010', '1020', '0000']\n",
      "2011\t['2011', '1022', '0000']\n",
      "2012\t['2012', '1021', '0000']\n",
      "2020\t['2020', '1010', '0000']\n",
      "2021\t['2021', '1012', '0000']\n",
      "2022\t['2022', '1011', '0000']\n",
      "2100\t['2100', '1200', '0000']\n",
      "2101\t['2101', '1202', '0000']\n",
      "2102\t['2102', '1201', '0000']\n",
      "2110\t['2110', '1220', '0000']\n",
      "2111\t['2111', '1222', '0000']\n",
      "2112\t['2112', '1221', '0000']\n",
      "2120\t['2120', '1210', '0000']\n",
      "2121\t['2121', '1212', '0000']\n",
      "2122\t['2122', '1211', '0000']\n",
      "2200\t['2200', '1100', '0000']\n",
      "2201\t['2201', '1102', '0000']\n",
      "2202\t['2202', '1101', '0000']\n",
      "2210\t['2210', '1120', '0000']\n",
      "2211\t['2211', '1122', '0000']\n",
      "2212\t['2212', '1121', '0000']\n",
      "2220\t['2220', '1110', '0000']\n",
      "2221\t['2221', '1112', '0000']\n",
      "2222\t['2222', '1111', '0000']\n"
     ]
    }
   ],
   "source": [
    "# V(4, 3)\n",
    "print('{}\\t{}'.format(str(n**q) + ' vectors', str(q) + ' scalar multiples per vector'))\n",
    "print()\n",
    "for vector in space:\n",
    "    print('{}\\t{}'.format(vector, generate_scalar_multiples(vector, n, q)))"
   ]
  },
  {
   "cell_type": "markdown",
   "metadata": {},
   "source": [
    "## Compute the sum $\\mathbf{v_1} + ... + \\mathbf{v_k}$ of a set of vectors $\\{\\mathbf{v_1}, ..., \\mathbf{v_k}\\} \\in V(n, q)$"
   ]
  },
  {
   "cell_type": "code",
   "execution_count": 973,
   "metadata": {},
   "outputs": [
    {
     "name": "stdout",
     "output_type": "stream",
     "text": [
      "Summing 3 vectors\t0202 + 0100 + 2001\n",
      "Sum\t\t\t2000\n"
     ]
    }
   ],
   "source": [
    "num_vecs = np.random.randint(1, 5)\n",
    "sum_vecs = np.random.choice(space, size=num_vecs, replace=True)\n",
    "summation = vecsadd(sum_vecs, n, q)\n",
    "\n",
    "print('Summing {} vector{}\\t{}'.format(num_vecs, 's' if num_vecs != 1 else '', ' + '.join(sum_vecs)))\n",
    "print('Sum\\t\\t\\t{}'.format(summation))"
   ]
  },
  {
   "cell_type": "markdown",
   "metadata": {},
   "source": [
    "## Get the span of a set of vectors"
   ]
  },
  {
   "cell_type": "code",
   "execution_count": 1005,
   "metadata": {},
   "outputs": [
    {
     "name": "stdout",
     "output_type": "stream",
     "text": [
      "Spanning 3 vectors\t2202 + 2021 + 0211\n",
      "Span 9 vectors\t\t{'2021', '0000', '1101', '0122', '1012', '0211', '1220', '2110', '2202'}\n"
     ]
    }
   ],
   "source": [
    "span_vecs = list(np.random.choice(space[1:], size=num_vecs, replace=False))\n",
    "spn = span(span_vecs, n, q)\n",
    "\n",
    "print('Spanning {} vector{}\\t{}'.format(num_vecs, 's' if num_vecs != 1 else '', ' + '.join(span_vecs)))\n",
    "print('Span {} vector{}\\t\\t{}'.format(len(spn), 's' if num_vecs != 1 else '', spn))"
   ]
  },
  {
   "cell_type": "markdown",
   "metadata": {},
   "source": [
    "---"
   ]
  },
  {
   "cell_type": "markdown",
   "metadata": {},
   "source": [
    "## Compute the number of distinct k-dim linear subspaces"
   ]
  },
  {
   "cell_type": "markdown",
   "metadata": {},
   "source": [
    "The number of distinct linear subspaces of dim $k$ of a linear space of dim $n$ is $\\frac{(q^n - q^0)(q^n - q^1)...(q^n - q^{k - 1})}{(q^k - q^0)(q^k - q^1)...(q^k - q^{k - 1})}$"
   ]
  },
  {
   "cell_type": "code",
   "execution_count": 1006,
   "metadata": {},
   "outputs": [
    {
     "name": "stdout",
     "output_type": "stream",
     "text": [
      "k\tbases\tn_choose_k\n",
      "\n",
      "0\t1\t1\n",
      "1\t40\t80\n",
      "2\t130\t3160\n",
      "3\t40\t82160\n",
      "4\t1\t1581580\n"
     ]
    }
   ],
   "source": [
    "# Compute the total number of linear subspaces of a linear space of dim n\n",
    "# i.e., compute the number of k-dim linear subspaces for k = 1, ..., n\n",
    "# the \"0-dim\" linear subspace is the trivial subspace {0}\n",
    "\n",
    "print('{}\\t{}\\t{}'.format('k', 'bases', 'n_choose_k'))\n",
    "print()\n",
    "for k in range(0, n + 1):\n",
    "    print('{}\\t{}\\t{}'.format(k, int(num_lin_sub_k(n, k, q)), len(list(combinations(range(q**n-1), k)))))"
   ]
  },
  {
   "cell_type": "markdown",
   "metadata": {},
   "source": [
    "---"
   ]
  },
  {
   "cell_type": "markdown",
   "metadata": {},
   "source": [
    "# <font color=\"red\">Under construction below this point</font>"
   ]
  },
  {
   "cell_type": "markdown",
   "metadata": {},
   "source": [
    "## Get a basis for a k-dim linear subspace"
   ]
  },
  {
   "cell_type": "code",
   "execution_count": 392,
   "metadata": {},
   "outputs": [],
   "source": [
    "k = 3\n",
    "\n",
    "# this is just q^n - 1 choose k\n",
    "bases = list(combinations(space[1:], k))\n",
    "print(len(bases))\n",
    "for i in bases:\n",
    "    print(i)\n",
    "\n",
    "\n",
    "\n",
    "def gen_dis_bases (space, k):\n",
    "    bases = list(combinations(space[1:], k))\n",
    "\n",
    "    distinct_bases = []\n",
    "    while bases:\n",
    "        basis, bases = bases[0], bases[1:]\n",
    "        \n",
    "        # check if the set of vectors is linearly independent\n",
    "        elems = []\n",
    "        for s in range(1, k + 1):\n",
    "            elems += list(combinations(basis, s))\n",
    "        if len(elems) < q**k - 1:\n",
    "            continue\n",
    "        \n",
    "        lincoms = []\n",
    "        pairs = list(combinations(basis, 2))\n",
    "        for i, j in pairs:\n",
    "            lincoms.append((i, j, vecadd(i, j, n)))\n",
    "        \n",
    "        for lincom in lincoms:\n",
    "            if lincom in bases:\n",
    "                bases.remove(lincom)\n",
    "                \n",
    "        distinct_bases.append(basis)\n",
    "    return distinct_bases\n",
    "\n",
    "\n",
    "\n",
    "distinct_bases = []\n",
    "while bases:\n",
    "    (b1, b2), bases = bases[0], bases[1:]\n",
    "    b3 = vecadd(b1, b2, n)\n",
    "    if (b1, b3) in bases:\n",
    "        bases.remove((b1, b3))\n",
    "    if (b2, b3) in bases:\n",
    "        bases.remove((b2, b3))\n",
    "    distinct_bases.append((b1, b2))\n",
    "    \n",
    "    \n",
    "    \n",
    "def gen_lin_code (basis):\n",
    "    sums = [space[0]]\n",
    "    sums += [i for i in basis]\n",
    "    for i, j in list(combinations(basis, 2)):\n",
    "        sums.append(vecadd(i, j, n))\n",
    "    return sums\n",
    "\n",
    "gen_lin_code(distinct_bases[0])"
   ]
  }
 ],
 "metadata": {
  "kernelspec": {
   "display_name": "Python 3",
   "language": "python",
   "name": "python3"
  },
  "language_info": {
   "codemirror_mode": {
    "name": "ipython",
    "version": 3
   },
   "file_extension": ".py",
   "mimetype": "text/x-python",
   "name": "python",
   "nbconvert_exporter": "python",
   "pygments_lexer": "ipython3",
   "version": "3.9.0"
  }
 },
 "nbformat": 4,
 "nbformat_minor": 4
}
