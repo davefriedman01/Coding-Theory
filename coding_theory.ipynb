{
 "cells": [
  {
   "cell_type": "code",
   "execution_count": 199,
   "metadata": {},
   "outputs": [],
   "source": [
    "from itertools import product\n",
    "import numpy as np"
   ]
  },
  {
   "cell_type": "code",
   "execution_count": 193,
   "metadata": {},
   "outputs": [],
   "source": [
    "def binvec (a, n):\n",
    "    \"\"\"take a binary vector a of length n in its decimal representation and return its binary represenation\"\"\"\n",
    "    return format(a, '0'+str(n)+'b')\n",
    "\n",
    "def vecadd (a, b, n, q=2):\n",
    "    \"\"\"take two vectors a and b of length n and return their sum (mod q)\"\"\"\n",
    "    return ''.join([str((int(a[i]) + int(b[i])) % q) for i in range(n)])\n",
    "    #return format(a^b, '0'+str(n)+'b') for binary vectors only\n",
    "    \n",
    "def vecinv (a, n):\n",
    "    return format(a^(2**n-1), '0'+str(n)+'b')\n",
    "\n",
    "def v (n, q=2):\n",
    "    \"\"\"construct a linear space of dimension n over a finite field of order q\"\"\"\n",
    "    return [''.join(str(pos) for pos in comb) for comb in list(product(range(q), repeat=n))]"
   ]
  },
  {
   "cell_type": "code",
   "execution_count": 171,
   "metadata": {},
   "outputs": [
    {
     "name": "stdout",
     "output_type": "stream",
     "text": [
      "00011111\n",
      "11100000\n",
      "01000000\n",
      "01011111\n"
     ]
    }
   ],
   "source": [
    "n = 8\n",
    "\n",
    "a = binvec(31, n)\n",
    "a_inv = vecinv(31, n)\n",
    "b = binvec(64, n)\n",
    "\n",
    "print(a)\n",
    "print(a_inv)\n",
    "print(b)\n",
    "print(vecadd(a, b, n))"
   ]
  },
  {
   "cell_type": "code",
   "execution_count": 196,
   "metadata": {},
   "outputs": [
    {
     "name": "stdout",
     "output_type": "stream",
     "text": [
      "len: 81\n",
      "\n",
      "0\t0000\n",
      "1\t0001\n",
      "2\t0002\n",
      "3\t0010\n",
      "4\t0011\n",
      "5\t0012\n",
      "6\t0020\n",
      "7\t0021\n",
      "8\t0022\n",
      "9\t0100\n",
      "10\t0101\n",
      "11\t0102\n",
      "12\t0110\n",
      "13\t0111\n",
      "14\t0112\n",
      "15\t0120\n",
      "16\t0121\n",
      "17\t0122\n",
      "18\t0200\n",
      "19\t0201\n",
      "20\t0202\n",
      "21\t0210\n",
      "22\t0211\n",
      "23\t0212\n",
      "24\t0220\n",
      "25\t0221\n",
      "26\t0222\n",
      "27\t1000\n",
      "28\t1001\n",
      "29\t1002\n",
      "30\t1010\n",
      "31\t1011\n",
      "32\t1012\n",
      "33\t1020\n",
      "34\t1021\n",
      "35\t1022\n",
      "36\t1100\n",
      "37\t1101\n",
      "38\t1102\n",
      "39\t1110\n",
      "40\t1111\n",
      "41\t1112\n",
      "42\t1120\n",
      "43\t1121\n",
      "44\t1122\n",
      "45\t1200\n",
      "46\t1201\n",
      "47\t1202\n",
      "48\t1210\n",
      "49\t1211\n",
      "50\t1212\n",
      "51\t1220\n",
      "52\t1221\n",
      "53\t1222\n",
      "54\t2000\n",
      "55\t2001\n",
      "56\t2002\n",
      "57\t2010\n",
      "58\t2011\n",
      "59\t2012\n",
      "60\t2020\n",
      "61\t2021\n",
      "62\t2022\n",
      "63\t2100\n",
      "64\t2101\n",
      "65\t2102\n",
      "66\t2110\n",
      "67\t2111\n",
      "68\t2112\n",
      "69\t2120\n",
      "70\t2121\n",
      "71\t2122\n",
      "72\t2200\n",
      "73\t2201\n",
      "74\t2202\n",
      "75\t2210\n",
      "76\t2211\n",
      "77\t2212\n",
      "78\t2220\n",
      "79\t2221\n",
      "80\t2222\n"
     ]
    }
   ],
   "source": [
    "space = v(4, 3)\n",
    "print('len:', len(space))\n",
    "print()\n",
    "for i, c in enumerate(space): print('{}\\t{}'.format(i, c))"
   ]
  },
  {
   "cell_type": "code",
   "execution_count": 218,
   "metadata": {},
   "outputs": [
    {
     "name": "stdout",
     "output_type": "stream",
     "text": [
      "2101\n",
      "2101\n",
      "1202\n"
     ]
    }
   ],
   "source": [
    "a = np.random.choice(space)\n",
    "b = np.random.choice(space)\n",
    "c = vecadd(a, b, n=4, q=3)\n",
    "print(a)\n",
    "print(b)\n",
    "print(c)\n",
    "assert c in space"
   ]
  },
  {
   "cell_type": "markdown",
   "metadata": {},
   "source": [
    "---"
   ]
  },
  {
   "cell_type": "markdown",
   "metadata": {},
   "source": [
    "The number of distinct linear subspaces of dim $k$ of a linear space of dim $n$ is $\\frac{(q^n - q^0)(q^n - q^1)...(q^n - q^{k - 1})}{(q^k - q^0)(q^k - q^1)...(q^k - q^{k - 1})}$"
   ]
  },
  {
   "cell_type": "code",
   "execution_count": 230,
   "metadata": {},
   "outputs": [],
   "source": [
    "def num_lin_sub_k (n, k, q):\n",
    "    \"\"\"Compute the number of k-dim linear subspaces of a linear space of dim n over a finite field of order q\"\"\"\n",
    "    return np.prod([q**n-q**i for i in range(k)])/np.prod([q**k-q**i for i in range(k)])"
   ]
  },
  {
   "cell_type": "code",
   "execution_count": 231,
   "metadata": {},
   "outputs": [
    {
     "name": "stdout",
     "output_type": "stream",
     "text": [
      "15.0\n",
      "35.0\n",
      "15.0\n",
      "1.0\n"
     ]
    }
   ],
   "source": [
    "# Compute the number of k-dim linear subspaces for k = 1, ..., n\n",
    "\n",
    "n = 4 # there is no need to set k since k ranges from 1 to n\n",
    "q = 2\n",
    "for k in range(1, n + 1):\n",
    "    print(num_lin_sub_k(n, k, q))"
   ]
  }
 ],
 "metadata": {
  "kernelspec": {
   "display_name": "Python 3",
   "language": "python",
   "name": "python3"
  },
  "language_info": {
   "codemirror_mode": {
    "name": "ipython",
    "version": 3
   },
   "file_extension": ".py",
   "mimetype": "text/x-python",
   "name": "python",
   "nbconvert_exporter": "python",
   "pygments_lexer": "ipython3",
   "version": "3.9.0"
  }
 },
 "nbformat": 4,
 "nbformat_minor": 4
}
