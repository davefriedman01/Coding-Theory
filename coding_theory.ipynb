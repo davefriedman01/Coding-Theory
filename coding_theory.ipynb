{
 "cells": [
  {
   "cell_type": "code",
   "execution_count": 9,
   "metadata": {},
   "outputs": [],
   "source": [
    "from collections import defaultdict\n",
    "from itertools import combinations, product\n",
    "import numpy as np"
   ]
  },
  {
   "cell_type": "markdown",
   "metadata": {},
   "source": [
    "---"
   ]
  },
  {
   "cell_type": "code",
   "execution_count": 2,
   "metadata": {},
   "outputs": [],
   "source": [
    "def binvec (a, n):\n",
    "    \"\"\"take a binary vector a of length n in its decimal representation and return its binary represenation\"\"\"\n",
    "    return format(a, '0'+str(n)+'b')\n",
    "\n",
    "def vector_weight (vector):\n",
    "    \"\"\"take a vector of length n and return its weight\n",
    "    the weight of a vector is the number of nonzero entries in the vector\n",
    "    \"\"\"\n",
    "    return sum([1 for i in vector if i != '0'])\n",
    "\n",
    "def vecadd (a, b, n, q=2):\n",
    "    \"\"\"take two vectors a and b of length n and return their sum (mod q)\"\"\"\n",
    "    return ''.join([str((int(a[i]) + int(b[i])) % q) for i in range(n)])\n",
    "    #return format(a^b, '0'+str(n)+'b') for binary vectors only\n",
    "    \n",
    "def vecsadd (vectors, n, q=2):\n",
    "    \"\"\"take a set of vectors as a list of strings of ints of length n\n",
    "    and return their sum (mod q) as a string of ints\"\"\"\n",
    "    \n",
    "    # verify that all vectors are length n\n",
    "    for vector in vectors:\n",
    "        assert len(vector) == n, 'vectors are assumed to be of equal length'\n",
    "        \n",
    "    \n",
    "    positions = defaultdict(list)\n",
    "    for vector in vectors:\n",
    "        for i in range(n ):\n",
    "            positions[i].append(vector[i])\n",
    "    summ = []\n",
    "    for i, j in positions.items():\n",
    "        summ.append(np.mod(np.array(j).astype(int).sum(), q))\n",
    "        \n",
    "    return ''.join([str(i) for i in summ])\n",
    "    \n",
    "def vecinv (a, n):\n",
    "    return format(a^(2**n-1), '0'+str(n)+'b')\n",
    "\n",
    "def v (n, q=2):\n",
    "    \"\"\"construct a linear space of dimension n over a finite field of order q\"\"\"\n",
    "    return [''.join(str(pos) for pos in comb) for comb in list(product(range(q), repeat=n))]\n",
    "\n",
    "def num_lin_sub_k (n, k, q):\n",
    "    \"\"\"Compute the number of k-dim linear subspaces of a linear space of dim n over a finite field of order q\"\"\"\n",
    "    return np.prod([q**n-q**i for i in range(k)])/np.prod([q**k-q**i for i in range(k)])\n",
    "\n",
    "def generate_scalar_multiples (vector, n, q):\n",
    "    \"\"\"Given a vector of length n over q symbols, get its scalar multiples\"\"\"\n",
    "    scalar_multiples = []\n",
    "    for scalar in range(q):\n",
    "        scalar_multiple = vector\n",
    "        for i in range(scalar):\n",
    "            scalar_multiple = vecadd(scalar_multiple, vector, n, q)\n",
    "        scalar_multiples.append(scalar_multiple)\n",
    "    return scalar_multiples\n",
    "\n",
    "def span (vectors=['1000','0100'], n=4, q=2):\n",
    "    \"\"\"\n",
    "    get the span of a set of vectors in V(n, q) over GF(q)\n",
    "    \"\"\"\n",
    "    if '0'*n in vectors:\n",
    "        vectors.remove('0'*n)\n",
    "    qsm = []\n",
    "    for veck in vectors:\n",
    "        qsm.append(generate_scalar_multiples(veck, n, q))\n",
    "\n",
    "    return set([vecsadd(comb, n, q) for comb in product(*[qsm[i] for i in range(len(qsm))])])\n",
    "\n",
    "def gen_dis_bases (space, k):\n",
    "    if k == 0:\n",
    "        return [{0}], 0\n",
    "    \n",
    "    bases = list(combinations(space[1:], k))\n",
    "    bases = list(set(i) for i in bases)\n",
    "    #print(len(bases))\n",
    "    #for i in bases:\n",
    "    #    print(i)\n",
    "            \n",
    "    spans = defaultdict(list)\n",
    "    while bases:\n",
    "        basis, bases = bases[0], bases[1:]\n",
    "        \n",
    "        # check if the set of vectors is linearly independent\n",
    "        if len(span(basis, n, q)) != q**k:\n",
    "            continue\n",
    "        \n",
    "        s = span(basis, n, q)\n",
    "        tot = ''\n",
    "        for i in sorted(s):\n",
    "            tot += i\n",
    "        spans[tot].append(basis)\n",
    "        \n",
    "    return len(spans), [len(reprs) for spn, reprs in spans.items()], spans\n",
    "\n",
    "def get_basis (space, k):\n",
    "    num, l, bases = gen_dis_bases(space, k)\n",
    "    return np.random.choice(bases[np.random.choice(np.array([spn for spn, reprs in bases.items()]))])\n",
    "\n",
    "def gen_lin_code (basis, n, q):\n",
    "    return span(basis, n, q)"
   ]
  },
  {
   "cell_type": "code",
   "execution_count": 171,
   "metadata": {},
   "outputs": [
    {
     "name": "stdout",
     "output_type": "stream",
     "text": [
      "00011111\n",
      "11100000\n",
      "01000000\n",
      "01011111\n"
     ]
    }
   ],
   "source": [
    "\"\"\"\n",
    "n = 8\n",
    "\n",
    "a = binvec(31, n)\n",
    "a_inv = vecinv(31, n)\n",
    "b = binvec(64, n)\n",
    "\n",
    "print(a)\n",
    "print(a_inv)\n",
    "print(b)\n",
    "print(vecadd(a, b, n))\n",
    "\"\"\""
   ]
  },
  {
   "cell_type": "markdown",
   "metadata": {},
   "source": [
    "---"
   ]
  },
  {
   "cell_type": "markdown",
   "metadata": {},
   "source": [
    "### Construct $V(n, q)$ over $GF(q)$ and compute the scalar multiples of a vector $\\{\\lambda\\mathbf{v}\\,\\vert\\,\\mathbf{v}\\in V(n, q), \\forall \\lambda\\in GF(q)\\}$\n",
    "\n",
    "$| V(n, q) | = q^n$"
   ]
  },
  {
   "cell_type": "code",
   "execution_count": 3,
   "metadata": {},
   "outputs": [
    {
     "name": "stdout",
     "output_type": "stream",
     "text": [
      "V(5, 2)\n",
      "\n",
      "25 vectors\tweight\t2 scalar multiples per vector\n",
      "\n",
      "0\t00000\t0\t['00000', '00000']\n",
      "1\t00001\t1\t['00001', '00000']\n",
      "2\t00010\t1\t['00010', '00000']\n",
      "3\t00011\t2\t['00011', '00000']\n",
      "4\t00100\t1\t['00100', '00000']\n",
      "5\t00101\t2\t['00101', '00000']\n",
      "6\t00110\t2\t['00110', '00000']\n",
      "7\t00111\t3\t['00111', '00000']\n",
      "8\t01000\t1\t['01000', '00000']\n",
      "9\t01001\t2\t['01001', '00000']\n",
      "10\t01010\t2\t['01010', '00000']\n",
      "11\t01011\t3\t['01011', '00000']\n",
      "12\t01100\t2\t['01100', '00000']\n",
      "13\t01101\t3\t['01101', '00000']\n",
      "14\t01110\t3\t['01110', '00000']\n",
      "15\t01111\t4\t['01111', '00000']\n",
      "16\t10000\t1\t['10000', '00000']\n",
      "17\t10001\t2\t['10001', '00000']\n",
      "18\t10010\t2\t['10010', '00000']\n",
      "19\t10011\t3\t['10011', '00000']\n",
      "20\t10100\t2\t['10100', '00000']\n",
      "21\t10101\t3\t['10101', '00000']\n",
      "22\t10110\t3\t['10110', '00000']\n",
      "23\t10111\t4\t['10111', '00000']\n",
      "24\t11000\t2\t['11000', '00000']\n",
      "25\t11001\t3\t['11001', '00000']\n",
      "26\t11010\t3\t['11010', '00000']\n",
      "27\t11011\t4\t['11011', '00000']\n",
      "28\t11100\t3\t['11100', '00000']\n",
      "29\t11101\t4\t['11101', '00000']\n",
      "30\t11110\t4\t['11110', '00000']\n",
      "31\t11111\t5\t['11111', '00000']\n"
     ]
    }
   ],
   "source": [
    "n = 5           # specify the dimension of V(n, q)\n",
    "q = 2           # specify the order of GF(q)\n",
    "space = v(n, q) # construct V(n, q) over GF(q)\n",
    "\n",
    "print('V(' + str(n) + ', ' + str(q) + ')')\n",
    "print()\n",
    "print('{}\\t{}\\t{}'.format(str(n**q) + ' vectors', 'weight', str(q) + ' scalar multiples per vector'))\n",
    "print()\n",
    "for i, vector in enumerate(space):\n",
    "    print('{}\\t{}\\t{}\\t{}'.format(i, vector, vector_weight(vector), generate_scalar_multiples(vector, n, q)))"
   ]
  },
  {
   "cell_type": "code",
   "execution_count": 4,
   "metadata": {},
   "outputs": [
    {
     "name": "stdout",
     "output_type": "stream",
     "text": [
      "10011\n",
      "11100\n",
      "01111\n"
     ]
    }
   ],
   "source": [
    "# show that the sum of any two vectors in the linear space is also in the linear space\n",
    "\n",
    "a = np.random.choice(space) # choose a random vector in V(n, q)\n",
    "b = np.random.choice(space) # choose a random vector in V(n, q)\n",
    "c = vecadd(a, b, n, q)      # add them\n",
    "print(a)\n",
    "print(b)\n",
    "print(c)\n",
    "assert c in space, 'Error: the sum of the vectors both of which are in V(n, q) is not in V(n, q)'"
   ]
  },
  {
   "cell_type": "markdown",
   "metadata": {},
   "source": [
    "---"
   ]
  },
  {
   "cell_type": "markdown",
   "metadata": {},
   "source": [
    "### Compute the sum $\\mathbf{v_1} + ... + \\mathbf{v_k}$ of a set of vectors $\\{\\mathbf{v_1}, ..., \\mathbf{v_k}\\} \\in V(n, q)$"
   ]
  },
  {
   "cell_type": "code",
   "execution_count": 6,
   "metadata": {},
   "outputs": [
    {
     "name": "stdout",
     "output_type": "stream",
     "text": [
      "Summing 3 vectors\t11100 + 00101 + 11010\n",
      "Sum\t\t\t00011\n"
     ]
    }
   ],
   "source": [
    "num_vecs = np.random.randint(1, 5)\n",
    "sum_vecs = np.random.choice(space, size=num_vecs, replace=True)\n",
    "summation = vecsadd(sum_vecs, n, q)\n",
    "\n",
    "print('Summing {} vector{}\\t{}'.format(num_vecs, 's' if num_vecs != 1 else '', ' + '.join(sum_vecs)))\n",
    "print('Sum\\t\\t\\t{}'.format(summation))"
   ]
  },
  {
   "cell_type": "markdown",
   "metadata": {},
   "source": [
    "### Get the span $span\\{\\mathbf{v_1}, ..., \\mathbf{v_k}\\}$ of a set of vectors $\\{\\mathbf{v_1}, ..., \\mathbf{v_k}\\} \\in V(n, q)$"
   ]
  },
  {
   "cell_type": "code",
   "execution_count": 7,
   "metadata": {},
   "outputs": [
    {
     "name": "stdout",
     "output_type": "stream",
     "text": [
      "Spanning 3 vectors\t01001 + 11101 + 00001\n",
      "Span 8 vectors\t\t{'10101', '01001', '11100', '10100', '00001', '01000', '00000', '11101'}\n"
     ]
    }
   ],
   "source": [
    "span_vecs = list(np.random.choice(space[1:], size=num_vecs, replace=False))\n",
    "spn = span(span_vecs, n, q)\n",
    "\n",
    "print('Spanning {} vector{}\\t{}'.format(num_vecs, 's' if num_vecs != 1 else '', ' + '.join(span_vecs)))\n",
    "print('Span {} vector{}\\t\\t{}'.format(len(spn), 's' if num_vecs != 1 else '', spn))"
   ]
  },
  {
   "cell_type": "markdown",
   "metadata": {},
   "source": [
    "---"
   ]
  },
  {
   "cell_type": "markdown",
   "metadata": {},
   "source": [
    "### Compute the number of distinct k-dim linear subspaces"
   ]
  },
  {
   "cell_type": "markdown",
   "metadata": {},
   "source": [
    "The number of distinct linear subspaces of dim $k$ of a linear space of dim $n$ is $\\frac{(q^n - q^0)(q^n - q^1)...(q^n - q^{k - 1})}{(q^k - q^0)(q^k - q^1)...(q^k - q^{k - 1})}$"
   ]
  },
  {
   "cell_type": "code",
   "execution_count": 10,
   "metadata": {},
   "outputs": [
    {
     "name": "stdout",
     "output_type": "stream",
     "text": [
      "k\tq^k\tbases\tq^n_choose_k\n",
      "\n",
      "0\t1\t1\t1\n",
      "1\t2\t31\t32\n",
      "2\t4\t155\t496\n",
      "3\t8\t155\t4960\n",
      "4\t16\t31\t35960\n",
      "5\t32\t1\t201376\n"
     ]
    }
   ],
   "source": [
    "# Compute the total number of linear subspaces of a linear space of dim n\n",
    "# i.e., compute the number of k-dim linear subspaces for k = 1, ..., n\n",
    "# the \"0-dim\" linear subspace is the trivial subspace {0}\n",
    "\n",
    "print('{}\\t{}\\t{}\\t{}'.format('k', 'q^k', 'bases', 'q^n_choose_k'))\n",
    "print()\n",
    "for k in range(0, n + 1):\n",
    "    print('{}\\t{}\\t{}\\t{}'.format(k, q**k, int(num_lin_sub_k(n, k, q)), len(list(combinations(range(q**n), k)))))"
   ]
  },
  {
   "cell_type": "markdown",
   "metadata": {},
   "source": [
    "---"
   ]
  },
  {
   "cell_type": "markdown",
   "metadata": {},
   "source": [
    "### Compute distinct k-dim bases and their representations"
   ]
  },
  {
   "cell_type": "code",
   "execution_count": 60,
   "metadata": {
    "scrolled": true
   },
   "outputs": [],
   "source": [
    "bases = gen_dis_bases(space, k=3)"
   ]
  },
  {
   "cell_type": "markdown",
   "metadata": {},
   "source": [
    "---"
   ]
  },
  {
   "cell_type": "markdown",
   "metadata": {},
   "source": [
    "### Get a k-dim basis"
   ]
  },
  {
   "cell_type": "code",
   "execution_count": 54,
   "metadata": {},
   "outputs": [
    {
     "data": {
      "text/plain": [
       "{'00001', '10000', '11111'}"
      ]
     },
     "execution_count": 54,
     "metadata": {},
     "output_type": "execute_result"
    }
   ],
   "source": [
    "basis = get_basis(space, k=3)\n",
    "basis"
   ]
  },
  {
   "cell_type": "markdown",
   "metadata": {},
   "source": [
    "---"
   ]
  },
  {
   "cell_type": "markdown",
   "metadata": {},
   "source": [
    "### Generate a linear [n, k]-code"
   ]
  },
  {
   "cell_type": "code",
   "execution_count": 55,
   "metadata": {},
   "outputs": [
    {
     "name": "stdout",
     "output_type": "stream",
     "text": [
      "00000\n",
      "00001\n",
      "01110\n",
      "01111\n",
      "10000\n",
      "10001\n",
      "11110\n",
      "11111\n"
     ]
    }
   ],
   "source": [
    "for i in sorted(gen_lin_code(basis, n, q)):\n",
    "    print(i)"
   ]
  },
  {
   "cell_type": "markdown",
   "metadata": {},
   "source": [
    "### Generate a linear [n, k]-code with a generator matrix"
   ]
  },
  {
   "cell_type": "code",
   "execution_count": 56,
   "metadata": {},
   "outputs": [
    {
     "data": {
      "text/plain": [
       "array([[0, 0, 0],\n",
       "       [0, 0, 1],\n",
       "       [0, 1, 0],\n",
       "       [0, 1, 1],\n",
       "       [1, 0, 0],\n",
       "       [1, 0, 1],\n",
       "       [1, 1, 0],\n",
       "       [1, 1, 1]])"
      ]
     },
     "execution_count": 56,
     "metadata": {},
     "output_type": "execute_result"
    }
   ],
   "source": [
    "messages = np.array([list(i) for i in v(3, q)], dtype=int)\n",
    "messages"
   ]
  },
  {
   "cell_type": "code",
   "execution_count": 57,
   "metadata": {},
   "outputs": [
    {
     "data": {
      "text/plain": [
       "array([[1, 0, 0, 0, 0],\n",
       "       [1, 1, 1, 1, 1],\n",
       "       [0, 0, 0, 0, 1]])"
      ]
     },
     "execution_count": 57,
     "metadata": {},
     "output_type": "execute_result"
    }
   ],
   "source": [
    "generator = np.array(list(tuple(i) for i in basis), dtype=int)\n",
    "generator"
   ]
  },
  {
   "cell_type": "code",
   "execution_count": 61,
   "metadata": {},
   "outputs": [
    {
     "data": {
      "text/plain": [
       "array([[0, 0, 0, 0, 0],\n",
       "       [0, 0, 0, 0, 1],\n",
       "       [1, 1, 1, 1, 1],\n",
       "       [1, 1, 1, 1, 0],\n",
       "       [1, 0, 0, 0, 0],\n",
       "       [1, 0, 0, 0, 1],\n",
       "       [0, 1, 1, 1, 1],\n",
       "       [0, 1, 1, 1, 0]])"
      ]
     },
     "execution_count": 61,
     "metadata": {},
     "output_type": "execute_result"
    }
   ],
   "source": [
    "np.dot(messages, generator) % q"
   ]
  }
 ],
 "metadata": {
  "kernelspec": {
   "display_name": "Python 3",
   "language": "python",
   "name": "python3"
  },
  "language_info": {
   "codemirror_mode": {
    "name": "ipython",
    "version": 3
   },
   "file_extension": ".py",
   "mimetype": "text/x-python",
   "name": "python",
   "nbconvert_exporter": "python",
   "pygments_lexer": "ipython3",
   "version": "3.9.0"
  }
 },
 "nbformat": 4,
 "nbformat_minor": 4
}
