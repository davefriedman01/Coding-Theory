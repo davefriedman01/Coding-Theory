{
 "cells": [
  {
   "cell_type": "code",
   "execution_count": 1,
   "metadata": {},
   "outputs": [],
   "source": [
    "from itertools import product\n",
    "import numpy as np"
   ]
  },
  {
   "cell_type": "code",
   "execution_count": 18,
   "metadata": {},
   "outputs": [],
   "source": [
    "def v (n, q):\n",
    "    \"\"\"construct a linear space of dimension n over a finite field of order q\"\"\"\n",
    "    return [''.join(str(pos) for pos in comb) for comb in list(product(range(q), repeat=n))]"
   ]
  },
  {
   "cell_type": "markdown",
   "metadata": {},
   "source": [
    "---"
   ]
  },
  {
   "cell_type": "markdown",
   "metadata": {},
   "source": [
    "__Exercise 7.6__\n",
    "Let $C$ be the ternary linear code with generator matrix\n",
    "$$\n",
    "\\begin{bmatrix}\n",
    "1 & 1 & 1 & 0\\\\\n",
    "2 & 0 & 1 & 1\n",
    "\\end{bmatrix}\n",
    "\\text{.}\n",
    "$$\n",
    "(a) Find a generator matrix for $C$ in standard form.<br>\n",
    "(b) Find a parity-check matrix for $C$ in standard form.<br>\n",
    "(c) Use syndrome decoding to decode the received vectors $2121$, $1201$, and $2222$."
   ]
  },
  {
   "cell_type": "markdown",
   "metadata": {},
   "source": [
    "---"
   ]
  },
  {
   "cell_type": "markdown",
   "metadata": {},
   "source": [
    "Theorem 5.5 (Standard-Form Generator Matrix Procedure)"
   ]
  },
  {
   "cell_type": "markdown",
   "metadata": {},
   "source": [
    "$$\n",
    "\\begin{bmatrix}\n",
    "1 & 1 & 1 & 0\\\\\n",
    "2 & 0 & 1 & 1\n",
    "\\end{bmatrix}\n",
    "\\rightarrow\n",
    "\\begin{bmatrix}\n",
    "1 & 1 & 1 & 0\\\\\n",
    "0 & 1 & 2 & 1\n",
    "\\end{bmatrix}\n",
    "\\rightarrow\n",
    "\\begin{bmatrix}\n",
    "1 & 0 & 2 & 2\\\\\n",
    "0 & 1 & 2 & 1\n",
    "\\end{bmatrix}\n",
    "$$"
   ]
  },
  {
   "cell_type": "markdown",
   "metadata": {},
   "source": [
    "$\\mathbf{u}G = \\mathbf{x}$"
   ]
  },
  {
   "cell_type": "markdown",
   "metadata": {},
   "source": [
    "$$\n",
    "\\begin{bmatrix}\n",
    "0 & 0\\\\\n",
    "0 & 1\\\\\n",
    "0 & 2\\\\\n",
    "1 & 0\\\\\n",
    "1 & 1\\\\\n",
    "1 & 2\\\\\n",
    "2 & 0\\\\\n",
    "2 & 1\\\\\n",
    "2 & 2\\\\\n",
    "\\end{bmatrix}\n",
    "\\begin{bmatrix}\n",
    "1 & 0 & 2 & 2\\\\\n",
    "0 & 1 & 2 & 1\n",
    "\\end{bmatrix}\n",
    "=\n",
    "\\begin{bmatrix}\n",
    "0 & 0 & 0 & 0\\\\\n",
    "0 & 1 & 2 & 1\\\\\n",
    "0 & 2 & 1 & 2\\\\\n",
    "1 & 1 & 1 & 0\\\\\n",
    "1 & 2 & 0 & 1\\\\\n",
    "2 & 0 & 1 & 1\\\\\n",
    "2 & 1 & 0 & 2\\\\\n",
    "2 & 2 & 2 & 0\\\\\n",
    "\\end{bmatrix}\n",
    "$$"
   ]
  },
  {
   "cell_type": "markdown",
   "metadata": {},
   "source": [
    "Theorem 7.6 (Standard-Form Parity-Check Matrix from Standard-Form Generator Matrix)"
   ]
  },
  {
   "cell_type": "markdown",
   "metadata": {},
   "source": [
    "\\begin{bmatrix}\n",
    "1 & 1 & 1 & 0\\\\\n",
    "1 & 2 & 0 & 1\n",
    "\\end{bmatrix}"
   ]
  },
  {
   "cell_type": "code",
   "execution_count": 21,
   "metadata": {},
   "outputs": [
    {
     "name": "stdout",
     "output_type": "stream",
     "text": [
      "Messages\n",
      "[[0 0]\n",
      " [0 1]\n",
      " [0 2]\n",
      " [1 0]\n",
      " [1 1]\n",
      " [1 2]\n",
      " [2 0]\n",
      " [2 1]\n",
      " [2 2]]\n",
      "\n",
      "Standard-Form Generator\n",
      "[[1 0 2 2]\n",
      " [0 1 2 1]]\n",
      "\n",
      "Code\n",
      "[[0 0 0 0]\n",
      " [0 1 2 1]\n",
      " [0 2 1 2]\n",
      " [1 0 2 2]\n",
      " [1 1 1 0]\n",
      " [1 2 0 1]\n",
      " [2 0 1 1]\n",
      " [2 1 0 2]\n",
      " [2 2 2 0]]\n"
     ]
    }
   ],
   "source": [
    "n = 2\n",
    "q = 3\n",
    "messages = np.array([list(i) for i in v(n, q)], dtype=int)\n",
    "generator = np.array([['1', '0', '2', '2'], ['0', '1', '2', '1']], dtype=int)\n",
    "code = np.mod(np.dot(messages, generator), q)\n",
    "\n",
    "print('Messages')\n",
    "print(messages)\n",
    "print()\n",
    "print('Standard-Form Generator')\n",
    "print(generator)\n",
    "print()\n",
    "print('Code')\n",
    "print(code)"
   ]
  },
  {
   "cell_type": "markdown",
   "metadata": {},
   "source": [
    "---"
   ]
  },
  {
   "cell_type": "markdown",
   "metadata": {},
   "source": [
    "__Exercise 7.7__\n",
    "Using the code of Example 7.12, decode the received vector $0617960587$."
   ]
  },
  {
   "cell_type": "markdown",
   "metadata": {},
   "source": [
    "---"
   ]
  },
  {
   "cell_type": "markdown",
   "metadata": {},
   "source": [
    "__Exercise 7.10__\n",
    "Suppose a certain binary channel accepts words of length 7 and that the only kind of error vector ever observed is one of the eight vectors $0000000$, $0000001$, $0000011$, $0000111$, $0001111$, $0011111$, $0111111$, $1111111$. Design a binary linear $[7, k]$-code which will correct all such errors with as large a rate as possible."
   ]
  },
  {
   "cell_type": "markdown",
   "metadata": {},
   "source": [
    "---"
   ]
  }
 ],
 "metadata": {
  "kernelspec": {
   "display_name": "Python 3",
   "language": "python",
   "name": "python3"
  },
  "language_info": {
   "codemirror_mode": {
    "name": "ipython",
    "version": 3
   },
   "file_extension": ".py",
   "mimetype": "text/x-python",
   "name": "python",
   "nbconvert_exporter": "python",
   "pygments_lexer": "ipython3",
   "version": "3.9.0"
  }
 },
 "nbformat": 4,
 "nbformat_minor": 4
}
